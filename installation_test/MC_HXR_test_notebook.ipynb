{
 "cells": [
  {
   "cell_type": "markdown",
   "id": "903dd546",
   "metadata": {},
   "source": [
    "# TEST\n",
    "\n",
    "Try and execute (Ctrl+Enter) the following cells containing some key module imports and procedures for the execution of the notebooks we will use in class. You may receive a warning (text over red background) but as long as it's not an error everything should be fine. If you get a warning try to execute the cell again and the warning should not appear. \n",
    "\n",
    "If you receive an error check if your virtual environment is active, try re-installing the module mentioned in the error or if nothing works ask for help via the provided communication channels."
   ]
  },
  {
   "cell_type": "code",
   "execution_count": null,
   "id": "83bb5609",
   "metadata": {},
   "outputs": [],
   "source": [
    "\n",
    "# UTILS\n",
    "import datetime as dt\n",
    "from datetime import datetime,time,timedelta\n",
    "import os\n",
    "## PLOT\n",
    "import matplotlib.pyplot as plt\n",
    "import matplotlib.dates as mdates\n",
    "\n",
    "from matplotlib.dates import DateFormatter\n",
    "## MATH\n",
    "from scipy.optimize import curve_fit\n",
    "import numpy as np\n",
    "\n",
    "## ASTROPY\n",
    "from astropy.io import fits\n",
    "from astropy.time.core import Time, TimeDelta\n",
    "from astropy.table import Table, vstack, hstack\n",
    "import astropy.units as u\n",
    "import sunpy\n"
   ]
  },
  {
   "cell_type": "code",
   "execution_count": null,
   "id": "689088a8",
   "metadata": {},
   "outputs": [],
   "source": [
    "x = np.linspace(0,5,500)\n",
    "y = np.sin(x) + np.random.random(500)\n",
    "\n",
    "def testfunc(x,a,b,c):\n",
    "    return a*np.sin(b*x)+c\n",
    "\n",
    "popt,pcov = curve_fit(testfunc,x,y)"
   ]
  },
  {
   "cell_type": "code",
   "execution_count": null,
   "id": "70d915fb",
   "metadata": {},
   "outputs": [],
   "source": [
    "plt.plot(x,y)\n",
    "plt.plot(x,testfunc(x,*popt),c=\"r\")"
   ]
  },
  {
   "cell_type": "markdown",
   "id": "f656b48f",
   "metadata": {},
   "source": [
    "You should see a noisy sin wave (blue) with its respective fit (red)."
   ]
  },
  {
   "cell_type": "code",
   "execution_count": null,
   "id": "79181138",
   "metadata": {},
   "outputs": [],
   "source": [
    "path_file = \"testfile.fits\"\n",
    "hdulist = fits.open(path_file)\n",
    "header = hdulist[0].header\n",
    "header"
   ]
  },
  {
   "cell_type": "markdown",
   "id": "f2af7e2c",
   "metadata": {},
   "source": [
    "You should see a list of the header elements of the fits file. "
   ]
  },
  {
   "cell_type": "code",
   "execution_count": null,
   "id": "5905f408",
   "metadata": {},
   "outputs": [],
   "source": [
    "(header[\"DSUN_OBS\"]*u.m).to(u.AU)"
   ]
  },
  {
   "cell_type": "code",
   "execution_count": null,
   "id": "59dfcf29",
   "metadata": {},
   "outputs": [],
   "source": [
    "(header[\"RSUN_ARC\"]*u.arcsec).to(u.arcmin)"
   ]
  },
  {
   "cell_type": "code",
   "execution_count": null,
   "id": "e8f764b1",
   "metadata": {},
   "outputs": [],
   "source": [
    "959/1056"
   ]
  },
  {
   "cell_type": "code",
   "execution_count": null,
   "id": "abaaeec7",
   "metadata": {},
   "outputs": [],
   "source": []
  },
  {
   "cell_type": "code",
   "execution_count": null,
   "id": "495cb71b-ef3b-4397-b7fe-8caa866dff57",
   "metadata": {},
   "outputs": [],
   "source": []
  }
 ],
 "metadata": {
  "kernelspec": {
   "display_name": "Python 3 (ipykernel)",
   "language": "python",
   "name": "python3"
  },
  "language_info": {
   "codemirror_mode": {
    "name": "ipython",
    "version": 3
   },
   "file_extension": ".py",
   "mimetype": "text/x-python",
   "name": "python",
   "nbconvert_exporter": "python",
   "pygments_lexer": "ipython3",
   "version": "3.10.12"
  }
 },
 "nbformat": 4,
 "nbformat_minor": 5
}
